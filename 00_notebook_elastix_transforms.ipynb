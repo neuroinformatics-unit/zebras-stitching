{
 "cells": [
  {
   "cell_type": "code",
   "id": "initial_id",
   "metadata": {
    "collapsed": true,
    "ExecuteTime": {
     "end_time": "2025-03-11T12:48:38.880972Z",
     "start_time": "2025-03-11T12:48:38.878555Z"
    }
   },
   "source": [
    "import re\n",
    "import pandas as pd\n",
    "import numpy as np\n",
    "\n",
    "from brainglobe_registration.elastix.register import (\n",
    "    run_registration\n",
    ")\n",
    "from brainglobe_registration.utils.utils import open_parameter_file\n",
    "from pathlib import Path\n"
   ],
   "outputs": [],
   "execution_count": 3
  },
  {
   "metadata": {
    "ExecuteTime": {
     "end_time": "2025-03-11T12:49:06.575796Z",
     "start_time": "2025-03-11T12:48:41.471697Z"
    }
   },
   "cell_type": "code",
   "source": [
    "import cv2\n",
    "\n",
    "def load_video_to_numpy(video_path):\n",
    "    cap = cv2.VideoCapture(video_path)\n",
    "    frames = []\n",
    "    \n",
    "    while cap.isOpened():\n",
    "        ret, frame = cap.read()\n",
    "        if not ret:\n",
    "            break\n",
    "        frame = cv2.cvtColor(frame, cv2.COLOR_BGR2GRAY)\n",
    "        frames.append(frame.astype(np.uint8))\n",
    "    \n",
    "    cap.release()\n",
    "    return np.array(frames, dtype=np.uint8)\n",
    "\n",
    "video_path = '../21Jan_007.mp4'\n",
    "video_data = load_video_to_numpy(video_path)\n",
    "print(video_data.shape)"
   ],
   "id": "63bce17e64769923",
   "outputs": [
    {
     "name": "stdout",
     "output_type": "stream",
     "text": [
      "(6294, 1080, 1920)\n"
     ]
    }
   ],
   "execution_count": 4
  },
  {
   "metadata": {
    "ExecuteTime": {
     "end_time": "2025-03-07T14:55:53.388434Z",
     "start_time": "2025-03-07T14:55:53.384825Z"
    }
   },
   "cell_type": "code",
   "source": "video_data.dtype",
   "id": "b28d6533e44fcc4d",
   "outputs": [
    {
     "data": {
      "text/plain": [
       "dtype('uint8')"
      ]
     },
     "execution_count": 3,
     "metadata": {},
     "output_type": "execute_result"
    }
   ],
   "execution_count": 3
  },
  {
   "metadata": {
    "ExecuteTime": {
     "end_time": "2025-03-11T12:49:26.720796Z",
     "start_time": "2025-03-11T12:49:26.718447Z"
    }
   },
   "cell_type": "code",
   "source": [
    "file_path = (\n",
    "    Path.home() / \"NIU-dev\" / \"brainglobe-registration\"\n",
    "    / \"brainglobe_registration\"\n",
    "    / \"parameters\"\n",
    "    / \"brainglobe_registration\"\n",
    "    / \"affine.txt\"\n",
    ")\n",
    "\n",
    "parameter_lists = [(\"affine\", open_parameter_file(file_path))]\n",
    "parameter_lists[0][1][\"FixedInternalImagePixelType\"] = [\"float\"]\n",
    "parameter_lists[0][1][\"MovingInternalImagePixelType\"] = [\"float\"]\n",
    "parameter_lists[0][1][\"NumberOfResolutions\"] = [\"2\"]\n",
    "parameter_lists[0][1][\"MaximumNumberOfIterations\"] = [\"200\"]\n",
    "parameter_lists[0][1][\"Transform\"] = [\"EulerTransform\"]"
   ],
   "id": "4ff402f34b100291",
   "outputs": [],
   "execution_count": 5
  },
  {
   "metadata": {
    "ExecuteTime": {
     "end_time": "2025-03-11T13:35:14.053011Z",
     "start_time": "2025-03-11T12:49:36.584561Z"
    }
   },
   "cell_type": "code",
   "source": [
    "from tqdm.notebook import tqdm\n",
    "\n",
    "output_file = \"out_euler_frame.csv\"\n",
    "\n",
    "with open(output_file, \"w\") as f:\n",
    "    f.write(\"theta,tx,ty\\n\")\n",
    "\n",
    "for i in tqdm(range(1, video_data.shape[0])):\n",
    "    fixed_gray = video_data[i-1]\n",
    "    moving_gray = video_data[i]\n",
    "    parameters = run_registration(\n",
    "        fixed_gray,\n",
    "        moving_gray,\n",
    "        parameter_lists,\n",
    "        filter_images=False\n",
    "    )\n",
    "\n",
    "    # Regular expression to find the TransformParameters line\n",
    "    pattern = r'\\(TransformParameters ([\\d\\.\\-e ]+)\\)'\n",
    "    input_string = str(parameters)\n",
    "    # Search for the pattern in the input string\n",
    "    match = re.search(pattern, input_string)\n",
    "\n",
    "    if match:\n",
    "        # Extract the numbers and convert them to floats\n",
    "        transform_parameters = list(map(float, match.group(1).split()))\n",
    "        with open(output_file, \"a\") as f:\n",
    "            f.write(\",\".join(map(str, transform_parameters)))\n",
    "            f.write(\"\\n\")\n",
    "    else:\n",
    "        print(\"TransformParameters not found\")"
   ],
   "id": "78a8c7fb2acf1195",
   "outputs": [
    {
     "data": {
      "text/plain": [
       "  0%|          | 0/6293 [00:00<?, ?it/s]"
      ],
      "application/vnd.jupyter.widget-view+json": {
       "version_major": 2,
       "version_minor": 0,
       "model_id": "5a08a61b5d88421097eddeb82480bc2e"
      }
     },
     "metadata": {},
     "output_type": "display_data"
    }
   ],
   "execution_count": 6
  },
  {
   "metadata": {
    "ExecuteTime": {
     "end_time": "2025-03-11T13:49:52.549543Z",
     "start_time": "2025-03-11T13:49:52.543082Z"
    }
   },
   "cell_type": "code",
   "source": [
    "output_file = \"out_euler_frame.csv\"\n",
    "\n",
    "df = pd.read_csv(output_file)\n",
    "## Add the first frame row\n",
    "df = pd.concat([pd.DataFrame({\n",
    "    'theta': [0],\n",
    "    'tx': [0],\n",
    "    'ty': [0]\n",
    "}), df], ignore_index=True)\n",
    "df.head()"
   ],
   "id": "e03dc0eb62ef2dac",
   "outputs": [
    {
     "data": {
      "text/plain": [
       "      theta       tx        ty\n",
       "0  0.000000  0.00000  0.000000\n",
       "1  0.000037  1.06339  0.450534\n",
       "2  0.000009  1.19702  0.424645\n",
       "3  0.000083  1.09340  0.409683\n",
       "4  0.000071  1.12484  0.444346"
      ],
      "text/html": [
       "<div>\n",
       "<style scoped>\n",
       "    .dataframe tbody tr th:only-of-type {\n",
       "        vertical-align: middle;\n",
       "    }\n",
       "\n",
       "    .dataframe tbody tr th {\n",
       "        vertical-align: top;\n",
       "    }\n",
       "\n",
       "    .dataframe thead th {\n",
       "        text-align: right;\n",
       "    }\n",
       "</style>\n",
       "<table border=\"1\" class=\"dataframe\">\n",
       "  <thead>\n",
       "    <tr style=\"text-align: right;\">\n",
       "      <th></th>\n",
       "      <th>theta</th>\n",
       "      <th>tx</th>\n",
       "      <th>ty</th>\n",
       "    </tr>\n",
       "  </thead>\n",
       "  <tbody>\n",
       "    <tr>\n",
       "      <th>0</th>\n",
       "      <td>0.000000</td>\n",
       "      <td>0.00000</td>\n",
       "      <td>0.000000</td>\n",
       "    </tr>\n",
       "    <tr>\n",
       "      <th>1</th>\n",
       "      <td>0.000037</td>\n",
       "      <td>1.06339</td>\n",
       "      <td>0.450534</td>\n",
       "    </tr>\n",
       "    <tr>\n",
       "      <th>2</th>\n",
       "      <td>0.000009</td>\n",
       "      <td>1.19702</td>\n",
       "      <td>0.424645</td>\n",
       "    </tr>\n",
       "    <tr>\n",
       "      <th>3</th>\n",
       "      <td>0.000083</td>\n",
       "      <td>1.09340</td>\n",
       "      <td>0.409683</td>\n",
       "    </tr>\n",
       "    <tr>\n",
       "      <th>4</th>\n",
       "      <td>0.000071</td>\n",
       "      <td>1.12484</td>\n",
       "      <td>0.444346</td>\n",
       "    </tr>\n",
       "  </tbody>\n",
       "</table>\n",
       "</div>"
      ]
     },
     "execution_count": 8,
     "metadata": {},
     "output_type": "execute_result"
    }
   ],
   "execution_count": 8
  },
  {
   "metadata": {
    "ExecuteTime": {
     "end_time": "2025-03-11T13:49:58.062491Z",
     "start_time": "2025-03-11T13:49:58.060202Z"
    }
   },
   "cell_type": "code",
   "source": [
    "df['tx_sum'] = df['tx'].cumsum()\n",
    "df['ty_sum'] = df['ty'].cumsum()"
   ],
   "id": "e1bc4432f7317914",
   "outputs": [],
   "execution_count": 9
  },
  {
   "metadata": {
    "ExecuteTime": {
     "end_time": "2025-03-11T13:49:58.877089Z",
     "start_time": "2025-03-11T13:49:58.874298Z"
    }
   },
   "cell_type": "code",
   "source": [
    "df['tx_sum_int'] = df['tx_sum'].round(0).astype(int)\n",
    "df['ty_sum_int'] = df['ty_sum'].round(0).astype(int)\n",
    "\n",
    "x_min = df['tx_sum_int'].min()\n",
    "x_max = df['tx_sum_int'].max()\n",
    "y_min = df['ty_sum_int'].min()\n",
    "y_max = df['ty_sum_int'].max()\n",
    "print(x_min, x_max, y_min, y_max)"
   ],
   "id": "286e9d138fd5860b",
   "outputs": [
    {
     "name": "stdout",
     "output_type": "stream",
     "text": [
      "0 3865 -273 597\n"
     ]
    }
   ],
   "execution_count": 10
  },
  {
   "metadata": {
    "ExecuteTime": {
     "end_time": "2025-03-11T13:50:31.889901Z",
     "start_time": "2025-03-11T13:50:31.887968Z"
    }
   },
   "cell_type": "code",
   "source": [
    "height, width = video_data.shape[1:3]\n",
    "\n",
    "total_height = y_max - y_min + height\n",
    "total_width = x_max - x_min + width\n",
    "\n",
    "print(total_height, total_width)"
   ],
   "id": "bc7e1740cfec73d6",
   "outputs": [
    {
     "name": "stdout",
     "output_type": "stream",
     "text": [
      "1950 5785\n"
     ]
    }
   ],
   "execution_count": 11
  },
  {
   "metadata": {
    "ExecuteTime": {
     "end_time": "2025-03-11T13:51:39.424288Z",
     "start_time": "2025-03-11T13:51:38.641253Z"
    }
   },
   "cell_type": "code",
   "source": [
    "import numpy as np\n",
    "fused_image = np.zeros((total_height, total_width), dtype=np.uint8)\n",
    "\n",
    "for i in range(video_data.shape[0] - 1, 0, -1):\n",
    "    x = df['tx_sum_int'][i] - x_min\n",
    "    y = df['ty_sum_int'][i] - y_min\n",
    "    fused_image[y:y+height, x:x+width] = video_data[i]"
   ],
   "id": "e7b16a3192cdd2d2",
   "outputs": [],
   "execution_count": 13
  },
  {
   "metadata": {
    "ExecuteTime": {
     "end_time": "2025-03-11T13:51:41.498546Z",
     "start_time": "2025-03-11T13:51:41.488817Z"
    }
   },
   "cell_type": "code",
   "source": [
    "import tifffile\n",
    "\n",
    "tifffile.imwrite(\"fused_image.tif\", fused_image)"
   ],
   "id": "802f54a0912e1e22",
   "outputs": [],
   "execution_count": 14
  }
 ],
 "metadata": {
  "kernelspec": {
   "display_name": "Python 3",
   "language": "python",
   "name": "python3"
  },
  "language_info": {
   "codemirror_mode": {
    "name": "ipython",
    "version": 2
   },
   "file_extension": ".py",
   "mimetype": "text/x-python",
   "name": "python",
   "nbconvert_exporter": "python",
   "pygments_lexer": "ipython2",
   "version": "2.7.6"
  }
 },
 "nbformat": 4,
 "nbformat_minor": 5
}
