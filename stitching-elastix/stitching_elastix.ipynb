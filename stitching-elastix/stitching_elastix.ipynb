{
 "cells": [
  {
   "cell_type": "code",
   "id": "initial_id",
   "metadata": {
    "collapsed": true,
    "ExecuteTime": {
     "end_time": "2025-03-07T15:30:46.457544Z",
     "start_time": "2025-03-07T15:30:32.397322Z"
    }
   },
   "source": [
    "import numpy as np\n",
    "import sleap_io as sio\n",
    "import re\n",
    "import pandas as pd\n",
    "\n",
    "from brainglobe_registration.elastix.register import (\n",
    "    run_registration\n",
    ")\n",
    "from brainglobe_registration.utils.utils import open_parameter_file\n",
    "from skimage.color import rgb2gray\n",
    "from pathlib import Path\n"
   ],
   "outputs": [],
   "execution_count": 2
  },
  {
   "metadata": {
    "ExecuteTime": {
     "end_time": "2025-03-07T16:17:15.329299Z",
     "start_time": "2025-03-07T16:17:08.254378Z"
    }
   },
   "cell_type": "code",
   "source": [
    "video_path = '../21Jan_007.mp4'\n",
    "video = sio.load_video(video_path)\n",
    "\n",
    "video_subsample = video[0:500]\n",
    "video_subsample.shape"
   ],
   "id": "63bce17e64769923",
   "outputs": [
    {
     "data": {
      "text/plain": [
       "(500, 1080, 1920, 3)"
      ]
     },
     "execution_count": 15,
     "metadata": {},
     "output_type": "execute_result"
    }
   ],
   "execution_count": 15
  },
  {
   "metadata": {
    "ExecuteTime": {
     "end_time": "2025-03-07T16:50:17.703687Z",
     "start_time": "2025-03-07T16:50:17.698290Z"
    }
   },
   "cell_type": "code",
   "source": [
    "file_path = (\n",
    "    Path.home() / \"NIU_dev\" / \"bg-elastix\"\n",
    "    / \"brainglobe_registration\"\n",
    "    / \"parameters\"\n",
    "    / \"brainglobe_registration\"\n",
    "    / \"affine.txt\"\n",
    ")\n",
    "\n",
    "parameter_lists = [(\"affine\", open_parameter_file(file_path))]\n",
    "parameter_lists[0][1][\"FixedInternalImagePixelType\"] = [\"float\"]\n",
    "parameter_lists[0][1][\"MovingInternalImagePixelType\"] = [\"float\"]\n",
    "parameter_lists[0][1][\"MaximumNumberOfIterations\"] = [\"300\"]\n",
    "parameter_lists[0][1][\"Transform\"] = [\"EulerTransform\"]"
   ],
   "id": "4ff402f34b100291",
   "outputs": [],
   "execution_count": 74
  },
  {
   "metadata": {
    "ExecuteTime": {
     "end_time": "2025-03-07T16:51:47.787653Z",
     "start_time": "2025-03-07T16:51:41.842501Z"
    }
   },
   "cell_type": "code",
   "source": [
    "from tqdm.notebook import tqdm\n",
    "\n",
    "output_file = \"out_euler_10.csv\"\n",
    "\n",
    "with open(output_file, \"w\") as f:\n",
    "    f.write(\"theta,tx,ty\\n\")\n",
    "\n",
    "for i in tqdm(range(1, 10)):\n",
    "    fixed_gray = rgb2gray(video_subsample[i-1])\n",
    "    moving_gray = rgb2gray(video_subsample[i])\n",
    "    parameters = run_registration(\n",
    "        fixed_gray,\n",
    "        moving_gray,\n",
    "        parameter_lists,\n",
    "        filter_images=False\n",
    "    )\n",
    "\n",
    "    # Regular expression to find the TransformParameters line\n",
    "    pattern = r'\\(TransformParameters ([\\d\\.\\-e ]+)\\)'\n",
    "    input_string = str(parameters)\n",
    "    # Search for the pattern in the input string\n",
    "    match = re.search(pattern, input_string)\n",
    "\n",
    "    if match:\n",
    "        # Extract the numbers and convert them to floats\n",
    "        transform_parameters = list(map(float, match.group(1).split()))\n",
    "        with open(output_file, \"a\") as f:\n",
    "            f.write(\",\".join(map(str, transform_parameters)))\n",
    "            f.write(\"\\n\")\n",
    "    else:\n",
    "        print(\"TransformParameters not found\")"
   ],
   "id": "78a8c7fb2acf1195",
   "outputs": [
    {
     "data": {
      "text/plain": [
       "  0%|          | 0/9 [00:00<?, ?it/s]"
      ],
      "application/vnd.jupyter.widget-view+json": {
       "version_major": 2,
       "version_minor": 0,
       "model_id": "83c1663993814a978f91b7fa0fb9d291"
      }
     },
     "metadata": {},
     "output_type": "display_data"
    }
   ],
   "execution_count": 80
  },
  {
   "metadata": {
    "ExecuteTime": {
     "end_time": "2025-03-07T16:45:00.930175Z",
     "start_time": "2025-03-07T16:45:00.921517Z"
    }
   },
   "cell_type": "code",
   "source": "str(parameters)",
   "id": "70b9d7be05687f4d",
   "outputs": [
    {
     "data": {
      "text/plain": [
       "'ParameterObject (0x600004d5caa0)\\n  RTTI typeinfo:   elastix::ParameterObject\\n  Reference Count: 1\\n  Modified Time: 19673950\\n  Debug: Off\\n  Object Name: \\n  Observers: \\n    none\\nParameterMap 0: \\n  (CenterOfRotationPoint 959.5 539.5)\\n  (CompressResultImage \"false\")\\n  (DefaultPixelValue 0)\\n  (Direction 1 0 0 1)\\n  (FinalBSplineInterpolationOrder 3)\\n  (FixedImageDimension 2)\\n  (FixedInternalImagePixelType \"float\")\\n  (HowToCombineTransforms \"Compose\")\\n  (Index 0 0)\\n  (InitialTransformParameterFileName \"NoInitialTransform\")\\n  (MovingImageDimension 2)\\n  (MovingInternalImagePixelType \"float\")\\n  (NumberOfParameters 6)\\n  (Origin 0 0)\\n  (ResampleInterpolator \"FinalBSplineInterpolator\")\\n  (Resampler \"DefaultResampler\")\\n  (ResultImageFormat \"tiff\")\\n  (ResultImagePixelType \"double\")\\n  (Size 1920 1080)\\n  (Spacing 1 1)\\n  (Transform \"AffineTransform\")\\n  (TransformParameters 1.00025 1.48686e-06 9.15803e-05 1.00018 1.22378 0.384018)\\n  (UseDirectionCosines \"true\")\\n'"
      ]
     },
     "execution_count": 51,
     "metadata": {},
     "output_type": "execute_result"
    }
   ],
   "execution_count": 51
  },
  {
   "metadata": {
    "ExecuteTime": {
     "end_time": "2025-03-07T16:44:38.982441Z",
     "start_time": "2025-03-07T16:44:38.978318Z"
    }
   },
   "cell_type": "code",
   "source": "str(parameters)",
   "id": "f4b3189b56cca4db",
   "outputs": [
    {
     "data": {
      "text/plain": [
       "'ParameterObject (0x600004d5c640)\\n  RTTI typeinfo:   elastix::ParameterObject\\n  Reference Count: 1\\n  Modified Time: 19419312\\n  Debug: Off\\n  Object Name: \\n  Observers: \\n    none\\nParameterMap 0: \\n  (CenterOfRotationPoint 959.5 539.5)\\n  (CompressResultImage \"false\")\\n  (DefaultPixelValue 0)\\n  (Direction 1 0 0 1)\\n  (FinalBSplineInterpolationOrder 3)\\n  (FixedImageDimension 2)\\n  (FixedInternalImagePixelType \"float\")\\n  (HowToCombineTransforms \"Compose\")\\n  (Index 0 0)\\n  (InitialTransformParameterFileName \"NoInitialTransform\")\\n  (MovingImageDimension 2)\\n  (MovingInternalImagePixelType \"float\")\\n  (NumberOfParameters 3)\\n  (Origin 0 0)\\n  (ResampleInterpolator \"FinalBSplineInterpolator\")\\n  (Resampler \"DefaultResampler\")\\n  (ResultImageFormat \"tiff\")\\n  (ResultImagePixelType \"double\")\\n  (Size 1920 1080)\\n  (Spacing 1 1)\\n  (Transform \"EulerTransform\")\\n  (TransformParameters 8.22838e-05 1.26321 0.410233)\\n  (UseDirectionCosines \"true\")\\n'"
      ]
     },
     "execution_count": 48,
     "metadata": {},
     "output_type": "execute_result"
    }
   ],
   "execution_count": 48
  },
  {
   "metadata": {
    "ExecuteTime": {
     "end_time": "2025-03-07T16:49:00.211134Z",
     "start_time": "2025-03-07T16:49:00.203947Z"
    }
   },
   "cell_type": "code",
   "source": [
    "cos_value = 1.00025\n",
    "\n",
    "np.cos(8.22838e-05)"
   ],
   "id": "1aa8eab5e3914405",
   "outputs": [
    {
     "data": {
      "text/plain": [
       "np.float64(0.9999999966146881)"
      ]
     },
     "execution_count": 73,
     "metadata": {},
     "output_type": "execute_result"
    }
   ],
   "execution_count": 73
  },
  {
   "metadata": {
    "ExecuteTime": {
     "end_time": "2025-03-07T16:51:50.031824Z",
     "start_time": "2025-03-07T16:51:50.010953Z"
    }
   },
   "cell_type": "code",
   "source": [
    "\n",
    "df = pd.read_csv(output_file)\n",
    "## Add the first frame row\n",
    "df = pd.concat([pd.DataFrame({\n",
    "    'theta': [0],\n",
    "    'tx': [0],\n",
    "    'ty': [0]\n",
    "}), df], ignore_index=True)\n",
    "df.head()"
   ],
   "id": "e03dc0eb62ef2dac",
   "outputs": [
    {
     "data": {
      "text/plain": [
       "      theta       tx        ty\n",
       "0  0.000000  0.00000  0.000000\n",
       "1  0.000042  1.07159  0.449169\n",
       "2  0.000014  1.20212  0.420697\n",
       "3  0.000096  1.08352  0.401244\n",
       "4  0.000076  1.13084  0.443089"
      ],
      "text/html": [
       "<div>\n",
       "<style scoped>\n",
       "    .dataframe tbody tr th:only-of-type {\n",
       "        vertical-align: middle;\n",
       "    }\n",
       "\n",
       "    .dataframe tbody tr th {\n",
       "        vertical-align: top;\n",
       "    }\n",
       "\n",
       "    .dataframe thead th {\n",
       "        text-align: right;\n",
       "    }\n",
       "</style>\n",
       "<table border=\"1\" class=\"dataframe\">\n",
       "  <thead>\n",
       "    <tr style=\"text-align: right;\">\n",
       "      <th></th>\n",
       "      <th>theta</th>\n",
       "      <th>tx</th>\n",
       "      <th>ty</th>\n",
       "    </tr>\n",
       "  </thead>\n",
       "  <tbody>\n",
       "    <tr>\n",
       "      <th>0</th>\n",
       "      <td>0.000000</td>\n",
       "      <td>0.00000</td>\n",
       "      <td>0.000000</td>\n",
       "    </tr>\n",
       "    <tr>\n",
       "      <th>1</th>\n",
       "      <td>0.000042</td>\n",
       "      <td>1.07159</td>\n",
       "      <td>0.449169</td>\n",
       "    </tr>\n",
       "    <tr>\n",
       "      <th>2</th>\n",
       "      <td>0.000014</td>\n",
       "      <td>1.20212</td>\n",
       "      <td>0.420697</td>\n",
       "    </tr>\n",
       "    <tr>\n",
       "      <th>3</th>\n",
       "      <td>0.000096</td>\n",
       "      <td>1.08352</td>\n",
       "      <td>0.401244</td>\n",
       "    </tr>\n",
       "    <tr>\n",
       "      <th>4</th>\n",
       "      <td>0.000076</td>\n",
       "      <td>1.13084</td>\n",
       "      <td>0.443089</td>\n",
       "    </tr>\n",
       "  </tbody>\n",
       "</table>\n",
       "</div>"
      ]
     },
     "execution_count": 81,
     "metadata": {},
     "output_type": "execute_result"
    }
   ],
   "execution_count": 81
  },
  {
   "metadata": {
    "ExecuteTime": {
     "end_time": "2025-03-07T16:54:35.029895Z",
     "start_time": "2025-03-07T16:54:35.016942Z"
    }
   },
   "cell_type": "code",
   "source": [
    "df['tx_sum'] = df['tx'].cumsum()\n",
    "df['ty_sum'] = df['ty'].cumsum()"
   ],
   "id": "e1bc4432f7317914",
   "outputs": [],
   "execution_count": 82
  },
  {
   "metadata": {
    "ExecuteTime": {
     "end_time": "2025-03-07T16:54:37.282071Z",
     "start_time": "2025-03-07T16:54:37.275190Z"
    }
   },
   "cell_type": "code",
   "source": [
    "df['tx_sum_int'] = df['tx_sum'].round(0).astype(int)\n",
    "df['ty_sum_int'] = df['ty_sum'].round(0).astype(int)\n",
    "\n",
    "x_min = df['tx_sum_int'].min()\n",
    "x_max = df['tx_sum_int'].max()\n",
    "y_min = df['ty_sum_int'].min()\n",
    "y_max = df['ty_sum_int'].max()\n",
    "print(x_min, x_max, y_min, y_max)"
   ],
   "id": "286e9d138fd5860b",
   "outputs": [
    {
     "name": "stdout",
     "output_type": "stream",
     "text": [
      "0 11 0 4\n"
     ]
    }
   ],
   "execution_count": 83
  },
  {
   "metadata": {
    "ExecuteTime": {
     "end_time": "2025-03-07T16:54:49.349918Z",
     "start_time": "2025-03-07T16:54:49.346094Z"
    }
   },
   "cell_type": "code",
   "source": [
    "height, width = video_subsample.shape[1:3]\n",
    "\n",
    "# total_height = y_max - y_min + height\n",
    "# total_width = x_max - x_min + width\n",
    "total_height = 2500\n",
    "total_width = 3000\n",
    "\n",
    "print(total_height, total_width)"
   ],
   "id": "bc7e1740cfec73d6",
   "outputs": [
    {
     "name": "stdout",
     "output_type": "stream",
     "text": [
      "2500 3000\n"
     ]
    }
   ],
   "execution_count": 84
  },
  {
   "metadata": {
    "ExecuteTime": {
     "end_time": "2025-03-07T16:56:40.174206Z",
     "start_time": "2025-03-07T16:56:39.357658Z"
    }
   },
   "cell_type": "code",
   "source": [
    "import numpy as np\n",
    "from skimage.transform import rotate\n",
    "\n",
    "fused_image = np.zeros((total_height, total_width, 3), dtype=np.uint8)\n",
    "\n",
    "for i in range(10 - 1, 0, -1):\n",
    "    # Rotation around the center of the image\n",
    "    adjusted_image = rotate(video_subsample[i], df['theta'][i], resize=True)\n",
    "    x = df['tx_sum_int'][i] - x_min\n",
    "    y = df['ty_sum_int'][i] - y_min\n",
    "    fused_image[y:y+height, x:x+width] = adjusted_image"
   ],
   "id": "e7b16a3192cdd2d2",
   "outputs": [],
   "execution_count": 85
  },
  {
   "metadata": {
    "ExecuteTime": {
     "end_time": "2025-03-07T16:56:42.728154Z",
     "start_time": "2025-03-07T16:56:42.713682Z"
    }
   },
   "cell_type": "code",
   "source": [
    "import tifffile\n",
    "\n",
    "tifffile.imwrite(\"fused_image.tif\", fused_image)"
   ],
   "id": "802f54a0912e1e22",
   "outputs": [],
   "execution_count": 86
  },
  {
   "metadata": {
    "ExecuteTime": {
     "end_time": "2025-03-07T15:35:51.836922Z",
     "start_time": "2025-03-07T15:35:51.831687Z"
    }
   },
   "cell_type": "code",
   "source": "frame_1.shape",
   "id": "edfc38a17ed8b07b",
   "outputs": [
    {
     "data": {
      "text/plain": [
       "(1080, 1920, 3)"
      ]
     },
     "execution_count": 10,
     "metadata": {},
     "output_type": "execute_result"
    }
   ],
   "execution_count": 10
  },
  {
   "metadata": {
    "ExecuteTime": {
     "end_time": "2025-03-07T15:37:26.161695Z",
     "start_time": "2025-03-07T15:37:25.794736Z"
    }
   },
   "cell_type": "code",
   "source": [
    "from scipy.ndimage import affine_transform\n",
    "\n",
    "angle = 45\n",
    "theta = np.deg2rad(angle)\n",
    "x_off = 500\n",
    "y_off = 0\n",
    "\n",
    "hom_matr = np.array([\n",
    "    [np.cos(theta), -np.sin(theta), x_off],\n",
    "    [np.sin(theta), np.cos(theta), y_off],\n",
    "    [0, 0, 1]\n",
    "])\n",
    "\n",
    "frame_0 = video_subsample[0]\n",
    "frame_1 = video_subsample[1]\n",
    "frame_1_adj = np.zeros_like(frame_1)\n",
    "\n",
    "for i in range(frame_1.shape[2]):\n",
    "    frame_1_adj[:, :, i] = affine_transform(frame_1[:, :, i], hom_matr)\n"
   ],
   "id": "4416269c50a6dadf",
   "outputs": [],
   "execution_count": 13
  },
  {
   "metadata": {
    "ExecuteTime": {
     "end_time": "2025-03-07T15:37:28.300239Z",
     "start_time": "2025-03-07T15:37:27.910833Z"
    }
   },
   "cell_type": "code",
   "source": [
    "import napari\n",
    "\n",
    "viewer = napari.Viewer()\n",
    "\n",
    "# viewer.add_image(frame_0)\n",
    "viewer.add_image(frame_1_adj)\n",
    "viewer.add_image(frame_1)"
   ],
   "id": "fbe30b5d02ed0923",
   "outputs": [
    {
     "data": {
      "text/plain": [
       "<Image layer 'frame_1' at 0x3700e1e20>"
      ]
     },
     "execution_count": 14,
     "metadata": {},
     "output_type": "execute_result"
    }
   ],
   "execution_count": 14
  }
 ],
 "metadata": {
  "kernelspec": {
   "display_name": "Python 3",
   "language": "python",
   "name": "python3"
  },
  "language_info": {
   "codemirror_mode": {
    "name": "ipython",
    "version": 2
   },
   "file_extension": ".py",
   "mimetype": "text/x-python",
   "name": "python",
   "nbconvert_exporter": "python",
   "pygments_lexer": "ipython2",
   "version": "2.7.6"
  }
 },
 "nbformat": 4,
 "nbformat_minor": 5
}
