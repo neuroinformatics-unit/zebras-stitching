{
 "cells": [
  {
   "cell_type": "code",
   "id": "initial_id",
   "metadata": {
    "collapsed": true,
    "ExecuteTime": {
     "end_time": "2025-03-02T14:38:46.936230Z",
     "start_time": "2025-03-02T14:38:33.145816Z"
    }
   },
   "source": [
    "import numpy as np\n",
    "import sleap_io as sio\n",
    "import re\n",
    "import pandas as pd\n",
    "\n",
    "from brainglobe_registration.elastix.register import (\n",
    "    run_registration\n",
    ")\n",
    "from brainglobe_registration.utils.utils import open_parameter_file\n",
    "from skimage.color import rgb2gray\n",
    "from pathlib import Path\n"
   ],
   "outputs": [],
   "execution_count": 2
  },
  {
   "metadata": {
    "ExecuteTime": {
     "end_time": "2025-03-02T14:40:56.247392Z",
     "start_time": "2025-03-02T14:38:46.940143Z"
    }
   },
   "cell_type": "code",
   "source": [
    "video_path = '../21Jan_007.mp4'\n",
    "video = sio.load_video(video_path)\n",
    "\n",
    "video_subsample = video[::8]\n",
    "video_subsample.shape"
   ],
   "id": "63bce17e64769923",
   "outputs": [
    {
     "data": {
      "text/plain": [
       "(787, 1080, 1920, 3)"
      ]
     },
     "execution_count": 3,
     "metadata": {},
     "output_type": "execute_result"
    }
   ],
   "execution_count": 3
  },
  {
   "metadata": {
    "ExecuteTime": {
     "end_time": "2025-03-02T14:41:00.476971Z",
     "start_time": "2025-03-02T14:41:00.469666Z"
    }
   },
   "cell_type": "code",
   "source": [
    "file_path = (\n",
    "    Path.home() / \"NIU_dev\" / \"bg-elastix\"\n",
    "    / \"brainglobe_registration\"\n",
    "    / \"parameters\"\n",
    "    / \"brainglobe_registration\"\n",
    "    / \"affine.txt\"\n",
    ")\n",
    "\n",
    "parameter_lists = [(\"affine\", open_parameter_file(file_path))]\n",
    "parameter_lists[0][1][\"FixedInternalImagePixelType\"] = [\"float\"]\n",
    "parameter_lists[0][1][\"MovingInternalImagePixelType\"] = [\"float\"]"
   ],
   "id": "4ff402f34b100291",
   "outputs": [],
   "execution_count": 4
  },
  {
   "metadata": {
    "ExecuteTime": {
     "end_time": "2025-03-02T14:52:09.574779Z",
     "start_time": "2025-03-02T14:41:03.449997Z"
    }
   },
   "cell_type": "code",
   "source": [
    "from tqdm.notebook import tqdm\n",
    "\n",
    "output_file = \"out_8frame.csv\"\n",
    "\n",
    "with open(output_file, \"w\") as f:\n",
    "    f.write(\"r11,r21,r12,r22,tx,ty\\n\")\n",
    "\n",
    "for i in tqdm(range(1, video_subsample.shape[0])):\n",
    "    fixed_gray = rgb2gray(video_subsample[i-1])\n",
    "    moving_gray = rgb2gray(video_subsample[i])\n",
    "    parameters = run_registration(\n",
    "        fixed_gray,\n",
    "        moving_gray,\n",
    "        parameter_lists,\n",
    "        filter_images=False\n",
    "    )\n",
    "\n",
    "    # Regular expression to find the TransformParameters line\n",
    "    pattern = r'\\(TransformParameters ([\\d\\.\\-e ]+)\\)'\n",
    "    input_string = str(parameters)\n",
    "    # Search for the pattern in the input string\n",
    "    match = re.search(pattern, input_string)\n",
    "\n",
    "    if match:\n",
    "        # Extract the numbers and convert them to floats\n",
    "        transform_parameters = list(map(float, match.group(1).split()))\n",
    "        with open(output_file, \"a\") as f:\n",
    "            f.write(\",\".join(map(str, transform_parameters)))\n",
    "            f.write(\"\\n\")\n",
    "    else:\n",
    "        print(\"TransformParameters not found\")"
   ],
   "id": "78a8c7fb2acf1195",
   "outputs": [
    {
     "data": {
      "text/plain": [
       "  0%|          | 0/786 [00:00<?, ?it/s]"
      ],
      "application/vnd.jupyter.widget-view+json": {
       "version_major": 2,
       "version_minor": 0,
       "model_id": "4fb6115edece467f837b3eb28e13ef94"
      }
     },
     "metadata": {},
     "output_type": "display_data"
    }
   ],
   "execution_count": 5
  },
  {
   "metadata": {
    "ExecuteTime": {
     "end_time": "2025-03-02T14:53:58.099284Z",
     "start_time": "2025-03-02T14:53:58.050273Z"
    }
   },
   "cell_type": "code",
   "source": [
    "df = pd.read_csv(output_file)\n",
    "## Add the first frame row\n",
    "df = pd.concat([pd.DataFrame({\n",
    "    'r11': [1],\n",
    "    'r21': [0],\n",
    "    'r12': [0],\n",
    "    'r22': [1],\n",
    "    'tx': [0],\n",
    "    'ty': [0]\n",
    "}), df], ignore_index=True)\n",
    "df.head()"
   ],
   "id": "e03dc0eb62ef2dac",
   "outputs": [
    {
     "data": {
      "text/plain": [
       "       r11       r21       r12      r22        tx       ty\n",
       "0  1.00000  0.000000  0.000000  1.00000   0.00000  0.00000\n",
       "1  1.00196  0.000576  0.000467  1.00208   9.21419  3.28388\n",
       "2  1.00197  0.001126  0.000343  1.00184  12.28140  3.34411\n",
       "3  1.00172  0.000427  0.000195  1.00141  12.82440  3.48496\n",
       "4  1.00125  0.001054 -0.000171  1.00112  10.31470  3.53160"
      ],
      "text/html": [
       "<div>\n",
       "<style scoped>\n",
       "    .dataframe tbody tr th:only-of-type {\n",
       "        vertical-align: middle;\n",
       "    }\n",
       "\n",
       "    .dataframe tbody tr th {\n",
       "        vertical-align: top;\n",
       "    }\n",
       "\n",
       "    .dataframe thead th {\n",
       "        text-align: right;\n",
       "    }\n",
       "</style>\n",
       "<table border=\"1\" class=\"dataframe\">\n",
       "  <thead>\n",
       "    <tr style=\"text-align: right;\">\n",
       "      <th></th>\n",
       "      <th>r11</th>\n",
       "      <th>r21</th>\n",
       "      <th>r12</th>\n",
       "      <th>r22</th>\n",
       "      <th>tx</th>\n",
       "      <th>ty</th>\n",
       "    </tr>\n",
       "  </thead>\n",
       "  <tbody>\n",
       "    <tr>\n",
       "      <th>0</th>\n",
       "      <td>1.00000</td>\n",
       "      <td>0.000000</td>\n",
       "      <td>0.000000</td>\n",
       "      <td>1.00000</td>\n",
       "      <td>0.00000</td>\n",
       "      <td>0.00000</td>\n",
       "    </tr>\n",
       "    <tr>\n",
       "      <th>1</th>\n",
       "      <td>1.00196</td>\n",
       "      <td>0.000576</td>\n",
       "      <td>0.000467</td>\n",
       "      <td>1.00208</td>\n",
       "      <td>9.21419</td>\n",
       "      <td>3.28388</td>\n",
       "    </tr>\n",
       "    <tr>\n",
       "      <th>2</th>\n",
       "      <td>1.00197</td>\n",
       "      <td>0.001126</td>\n",
       "      <td>0.000343</td>\n",
       "      <td>1.00184</td>\n",
       "      <td>12.28140</td>\n",
       "      <td>3.34411</td>\n",
       "    </tr>\n",
       "    <tr>\n",
       "      <th>3</th>\n",
       "      <td>1.00172</td>\n",
       "      <td>0.000427</td>\n",
       "      <td>0.000195</td>\n",
       "      <td>1.00141</td>\n",
       "      <td>12.82440</td>\n",
       "      <td>3.48496</td>\n",
       "    </tr>\n",
       "    <tr>\n",
       "      <th>4</th>\n",
       "      <td>1.00125</td>\n",
       "      <td>0.001054</td>\n",
       "      <td>-0.000171</td>\n",
       "      <td>1.00112</td>\n",
       "      <td>10.31470</td>\n",
       "      <td>3.53160</td>\n",
       "    </tr>\n",
       "  </tbody>\n",
       "</table>\n",
       "</div>"
      ]
     },
     "execution_count": 6,
     "metadata": {},
     "output_type": "execute_result"
    }
   ],
   "execution_count": 6
  },
  {
   "metadata": {
    "ExecuteTime": {
     "end_time": "2025-03-02T14:54:03.318647Z",
     "start_time": "2025-03-02T14:54:03.314013Z"
    }
   },
   "cell_type": "code",
   "source": [
    "df['tx_sum'] = df['tx'].cumsum()\n",
    "df['ty_sum'] = df['ty'].cumsum()"
   ],
   "id": "e1bc4432f7317914",
   "outputs": [],
   "execution_count": 7
  },
  {
   "metadata": {
    "ExecuteTime": {
     "end_time": "2025-03-02T14:54:04.309967Z",
     "start_time": "2025-03-02T14:54:04.304518Z"
    }
   },
   "cell_type": "code",
   "source": [
    "df['tx_sum_int'] = df['tx_sum'].round(0).astype(int)\n",
    "df['ty_sum_int'] = df['ty_sum'].round(0).astype(int)\n",
    "\n",
    "x_min = df['tx_sum_int'].min()\n",
    "x_max = df['tx_sum_int'].max()\n",
    "y_min = df['ty_sum_int'].min()\n",
    "y_max = df['ty_sum_int'].max()\n",
    "print(x_min, x_max, y_min, y_max)"
   ],
   "id": "286e9d138fd5860b",
   "outputs": [
    {
     "name": "stdout",
     "output_type": "stream",
     "text": [
      "0 3817 -273 596\n"
     ]
    }
   ],
   "execution_count": 8
  },
  {
   "metadata": {
    "ExecuteTime": {
     "end_time": "2025-03-02T14:54:09.817719Z",
     "start_time": "2025-03-02T14:54:09.814397Z"
    }
   },
   "cell_type": "code",
   "source": [
    "height, width = video_subsample.shape[1:3]\n",
    "\n",
    "total_height = y_max - y_min + height\n",
    "total_width = x_max - x_min + width\n",
    "\n",
    "print(total_height, total_width)"
   ],
   "id": "bc7e1740cfec73d6",
   "outputs": [
    {
     "name": "stdout",
     "output_type": "stream",
     "text": [
      "1949 5737\n"
     ]
    }
   ],
   "execution_count": 9
  },
  {
   "metadata": {
    "ExecuteTime": {
     "end_time": "2025-03-02T14:54:21.758278Z",
     "start_time": "2025-03-02T14:54:20.619795Z"
    }
   },
   "cell_type": "code",
   "source": [
    "import numpy as np\n",
    "fused_image = np.zeros((total_height, total_width, 3), dtype=np.uint8)\n",
    "\n",
    "for i in range(video_subsample.shape[0] - 1, 0, -1):\n",
    "    x = df['tx_sum_int'][i] - x_min\n",
    "    y = df['ty_sum_int'][i] - y_min\n",
    "    fused_image[y:y+height, x:x+width] = video_subsample[i]"
   ],
   "id": "e7b16a3192cdd2d2",
   "outputs": [],
   "execution_count": 10
  },
  {
   "metadata": {
    "ExecuteTime": {
     "end_time": "2025-03-02T14:54:23.912093Z",
     "start_time": "2025-03-02T14:54:23.898130Z"
    }
   },
   "cell_type": "code",
   "source": [
    "import tifffile\n",
    "\n",
    "tifffile.imwrite(\"fused_image.tif\", fused_image)"
   ],
   "id": "802f54a0912e1e22",
   "outputs": [],
   "execution_count": 11
  }
 ],
 "metadata": {
  "kernelspec": {
   "display_name": "Python 3",
   "language": "python",
   "name": "python3"
  },
  "language_info": {
   "codemirror_mode": {
    "name": "ipython",
    "version": 2
   },
   "file_extension": ".py",
   "mimetype": "text/x-python",
   "name": "python",
   "nbconvert_exporter": "python",
   "pygments_lexer": "ipython2",
   "version": "2.7.6"
  }
 },
 "nbformat": 4,
 "nbformat_minor": 5
}
